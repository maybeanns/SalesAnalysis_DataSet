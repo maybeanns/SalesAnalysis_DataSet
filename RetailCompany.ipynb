{
 "cells": [
  {
   "cell_type": "markdown",
   "id": "80849a48-91c2-4eae-b579-807cafff7da3",
   "metadata": {},
   "source": [
    "# Sales Data Analysis"
   ]
  },
  {
   "cell_type": "markdown",
   "id": "fd8ba36f-92e1-4bd5-9b2f-7e32c53a9069",
   "metadata": {},
   "source": [
    "##### You are a data analyst at a retail company that sells various products across multiple regions. The company has collected sales data for the past year, and your task is to analyze this data to gain insights into sales performance, customer behavior, and product popularity."
   ]
  },
  {
   "cell_type": "code",
   "execution_count": 26,
   "id": "9566197f-c745-450f-be19-9b5c4d60cc32",
   "metadata": {},
   "outputs": [],
   "source": [
    "import numpy as num\n",
    "import pandas as pd\n",
    "from IPython.display import display\n",
    "from tabulate import tabulate\n",
    "\n",
    "\n",
    "df = pd.read_csv('sales_data.csv')"
   ]
  },
  {
   "cell_type": "markdown",
   "id": "c02f4005-05ce-4f74-bc9c-659577c014d4",
   "metadata": {},
   "source": [
    "#### Show full table and its contents"
   ]
  },
  {
   "cell_type": "code",
   "execution_count": 17,
   "id": "f547cd38-7c57-4c4c-8cbf-335af8fa9183",
   "metadata": {},
   "outputs": [
    {
     "data": {
      "text/html": [
       "<div>\n",
       "<style scoped>\n",
       "    .dataframe tbody tr th:only-of-type {\n",
       "        vertical-align: middle;\n",
       "    }\n",
       "\n",
       "    .dataframe tbody tr th {\n",
       "        vertical-align: top;\n",
       "    }\n",
       "\n",
       "    .dataframe thead th {\n",
       "        text-align: right;\n",
       "    }\n",
       "</style>\n",
       "<table border=\"1\" class=\"dataframe\">\n",
       "  <thead>\n",
       "    <tr style=\"text-align: right;\">\n",
       "      <th></th>\n",
       "      <th>order_id</th>\n",
       "      <th>ProductID</th>\n",
       "      <th>ProductName</th>\n",
       "      <th>Category</th>\n",
       "      <th>Quantity</th>\n",
       "      <th>Price</th>\n",
       "      <th>TotalPrice</th>\n",
       "      <th>OrderDate</th>\n",
       "      <th>CustomerID</th>\n",
       "      <th>Region</th>\n",
       "    </tr>\n",
       "  </thead>\n",
       "  <tbody>\n",
       "    <tr>\n",
       "      <th>0</th>\n",
       "      <td>1</td>\n",
       "      <td>2500</td>\n",
       "      <td>Shampoo</td>\n",
       "      <td>cosmetics</td>\n",
       "      <td>9200</td>\n",
       "      <td>1200</td>\n",
       "      <td>1500</td>\n",
       "      <td>21100</td>\n",
       "      <td>211000</td>\n",
       "      <td>RYK</td>\n",
       "    </tr>\n",
       "    <tr>\n",
       "      <th>1</th>\n",
       "      <td>2</td>\n",
       "      <td>2630</td>\n",
       "      <td>Soap</td>\n",
       "      <td>cosmetics</td>\n",
       "      <td>6100</td>\n",
       "      <td>2100</td>\n",
       "      <td>1200</td>\n",
       "      <td>18330</td>\n",
       "      <td>183300</td>\n",
       "      <td>RYK</td>\n",
       "    </tr>\n",
       "    <tr>\n",
       "      <th>2</th>\n",
       "      <td>3</td>\n",
       "      <td>2140</td>\n",
       "      <td>Liquid Soap</td>\n",
       "      <td>liq cosmetics</td>\n",
       "      <td>9550</td>\n",
       "      <td>3550</td>\n",
       "      <td>1340</td>\n",
       "      <td>22470</td>\n",
       "      <td>224700</td>\n",
       "      <td>SWL</td>\n",
       "    </tr>\n",
       "    <tr>\n",
       "      <th>3</th>\n",
       "      <td>4</td>\n",
       "      <td>3400</td>\n",
       "      <td>Tezaab</td>\n",
       "      <td>Acid Cleaner</td>\n",
       "      <td>8870</td>\n",
       "      <td>1870</td>\n",
       "      <td>1130</td>\n",
       "      <td>22270</td>\n",
       "      <td>222700</td>\n",
       "      <td>RWP</td>\n",
       "    </tr>\n",
       "    <tr>\n",
       "      <th>4</th>\n",
       "      <td>5</td>\n",
       "      <td>3600</td>\n",
       "      <td>Tooth Brush</td>\n",
       "      <td>Med Cleaner</td>\n",
       "      <td>7760</td>\n",
       "      <td>1560</td>\n",
       "      <td>1740</td>\n",
       "      <td>20960</td>\n",
       "      <td>209600</td>\n",
       "      <td>ISL</td>\n",
       "    </tr>\n",
       "  </tbody>\n",
       "</table>\n",
       "</div>"
      ],
      "text/plain": [
       "   order_id  ProductID  ProductName        Category  Quantity  Price  \\\n",
       "0         1       2500      Shampoo       cosmetics      9200   1200   \n",
       "1         2       2630         Soap       cosmetics      6100   2100   \n",
       "2         3       2140  Liquid Soap   liq cosmetics      9550   3550   \n",
       "3         4       3400       Tezaab    Acid Cleaner      8870   1870   \n",
       "4         5       3600  Tooth Brush     Med Cleaner      7760   1560   \n",
       "\n",
       "   TotalPrice  OrderDate  CustomerID Region  \n",
       "0        1500      21100      211000    RYK  \n",
       "1        1200      18330      183300    RYK  \n",
       "2        1340      22470      224700    SWL  \n",
       "3        1130      22270      222700    RWP  \n",
       "4        1740      20960      209600    ISL  "
      ]
     },
     "metadata": {},
     "output_type": "display_data"
    },
    {
     "name": "stdout",
     "output_type": "stream",
     "text": [
      "<class 'pandas.core.frame.DataFrame'>\n",
      "RangeIndex: 12 entries, 0 to 11\n",
      "Data columns (total 10 columns):\n",
      " #   Column       Non-Null Count  Dtype \n",
      "---  ------       --------------  ----- \n",
      " 0   order_id     12 non-null     int64 \n",
      " 1   ProductID    12 non-null     int64 \n",
      " 2   ProductName  12 non-null     object\n",
      " 3   Category     12 non-null     object\n",
      " 4   Quantity     12 non-null     int64 \n",
      " 5   Price        12 non-null     int64 \n",
      " 6   TotalPrice   12 non-null     int64 \n",
      " 7   OrderDate    12 non-null     int64 \n",
      " 8   CustomerID   12 non-null     int64 \n",
      " 9   Region       12 non-null     object\n",
      "dtypes: int64(7), object(3)\n",
      "memory usage: 1.1+ KB\n"
     ]
    },
    {
     "data": {
      "text/plain": [
       "None"
      ]
     },
     "metadata": {},
     "output_type": "display_data"
    }
   ],
   "source": [
    "display(df.head())\n",
    "display(df.info())"
   ]
  },
  {
   "cell_type": "markdown",
   "id": "aa773a9f-8bcd-4bf0-ae5e-e8da258c9c76",
   "metadata": {},
   "source": [
    "#### Show only 5 rows"
   ]
  },
  {
   "cell_type": "code",
   "execution_count": 3,
   "id": "9a77b385-8944-44b5-8911-ebf4f3b99773",
   "metadata": {},
   "outputs": [
    {
     "data": {
      "text/html": [
       "<div>\n",
       "<style scoped>\n",
       "    .dataframe tbody tr th:only-of-type {\n",
       "        vertical-align: middle;\n",
       "    }\n",
       "\n",
       "    .dataframe tbody tr th {\n",
       "        vertical-align: top;\n",
       "    }\n",
       "\n",
       "    .dataframe thead th {\n",
       "        text-align: right;\n",
       "    }\n",
       "</style>\n",
       "<table border=\"1\" class=\"dataframe\">\n",
       "  <thead>\n",
       "    <tr style=\"text-align: right;\">\n",
       "      <th></th>\n",
       "      <th>order_id</th>\n",
       "      <th>ProductID</th>\n",
       "      <th>ProductName</th>\n",
       "      <th>Category</th>\n",
       "      <th>Quantity</th>\n",
       "      <th>Price</th>\n",
       "      <th>TotalPrice</th>\n",
       "      <th>OrderDate</th>\n",
       "      <th>CustomerID</th>\n",
       "      <th>Region</th>\n",
       "    </tr>\n",
       "  </thead>\n",
       "  <tbody>\n",
       "    <tr>\n",
       "      <th>0</th>\n",
       "      <td>1</td>\n",
       "      <td>2500</td>\n",
       "      <td>Shampoo</td>\n",
       "      <td>cosmetics</td>\n",
       "      <td>9200</td>\n",
       "      <td>1200</td>\n",
       "      <td>1500</td>\n",
       "      <td>21100</td>\n",
       "      <td>211000</td>\n",
       "      <td>RYK</td>\n",
       "    </tr>\n",
       "    <tr>\n",
       "      <th>1</th>\n",
       "      <td>2</td>\n",
       "      <td>2630</td>\n",
       "      <td>Soap</td>\n",
       "      <td>cosmetics</td>\n",
       "      <td>6100</td>\n",
       "      <td>2100</td>\n",
       "      <td>1200</td>\n",
       "      <td>18330</td>\n",
       "      <td>183300</td>\n",
       "      <td>RYK</td>\n",
       "    </tr>\n",
       "    <tr>\n",
       "      <th>2</th>\n",
       "      <td>3</td>\n",
       "      <td>2140</td>\n",
       "      <td>Liquid Soap</td>\n",
       "      <td>liq cosmetics</td>\n",
       "      <td>9550</td>\n",
       "      <td>3550</td>\n",
       "      <td>1340</td>\n",
       "      <td>22470</td>\n",
       "      <td>224700</td>\n",
       "      <td>SWL</td>\n",
       "    </tr>\n",
       "    <tr>\n",
       "      <th>3</th>\n",
       "      <td>4</td>\n",
       "      <td>3400</td>\n",
       "      <td>Tezaab</td>\n",
       "      <td>Acid Cleaner</td>\n",
       "      <td>8870</td>\n",
       "      <td>1870</td>\n",
       "      <td>1130</td>\n",
       "      <td>22270</td>\n",
       "      <td>222700</td>\n",
       "      <td>RWP</td>\n",
       "    </tr>\n",
       "    <tr>\n",
       "      <th>4</th>\n",
       "      <td>5</td>\n",
       "      <td>3600</td>\n",
       "      <td>Tooth Brush</td>\n",
       "      <td>Med Cleaner</td>\n",
       "      <td>7760</td>\n",
       "      <td>1560</td>\n",
       "      <td>1740</td>\n",
       "      <td>20960</td>\n",
       "      <td>209600</td>\n",
       "      <td>ISL</td>\n",
       "    </tr>\n",
       "  </tbody>\n",
       "</table>\n",
       "</div>"
      ],
      "text/plain": [
       "   order_id  ProductID  ProductName        Category  Quantity  Price  \\\n",
       "0         1       2500      Shampoo       cosmetics      9200   1200   \n",
       "1         2       2630         Soap       cosmetics      6100   2100   \n",
       "2         3       2140  Liquid Soap   liq cosmetics      9550   3550   \n",
       "3         4       3400       Tezaab    Acid Cleaner      8870   1870   \n",
       "4         5       3600  Tooth Brush     Med Cleaner      7760   1560   \n",
       "\n",
       "   TotalPrice  OrderDate  CustomerID Region  \n",
       "0        1500      21100      211000    RYK  \n",
       "1        1200      18330      183300    RYK  \n",
       "2        1340      22470      224700    SWL  \n",
       "3        1130      22270      222700    RWP  \n",
       "4        1740      20960      209600    ISL  "
      ]
     },
     "execution_count": 3,
     "metadata": {},
     "output_type": "execute_result"
    }
   ],
   "source": [
    "df.head()"
   ]
  },
  {
   "cell_type": "markdown",
   "id": "28485c98-ae2f-4558-9b3e-f933fedb573a",
   "metadata": {},
   "source": [
    "### Cleaning!\n",
    "- dropna(): This method is used to remove missing values.\n",
    "- inplace=True: This modifies the DataFrame in place, meaning it does not return a new DataFrame but changes the original one.\n"
   ]
  },
  {
   "cell_type": "code",
   "execution_count": 7,
   "id": "ab00b2ad-7d3d-4351-a9d2-1650929a2b9f",
   "metadata": {},
   "outputs": [
    {
     "name": "stdout",
     "output_type": "stream",
     "text": [
      "<class 'pandas.core.frame.DataFrame'>\n",
      "RangeIndex: 12 entries, 0 to 11\n",
      "Data columns (total 10 columns):\n",
      " #   Column       Non-Null Count  Dtype \n",
      "---  ------       --------------  ----- \n",
      " 0   order_id     12 non-null     int64 \n",
      " 1   ProductID    12 non-null     int64 \n",
      " 2   ProductName  12 non-null     object\n",
      " 3   Category     12 non-null     object\n",
      " 4   Quantity     12 non-null     int64 \n",
      " 5   Price        12 non-null     int64 \n",
      " 6   TotalPrice   12 non-null     int64 \n",
      " 7   OrderDate    12 non-null     int64 \n",
      " 8   CustomerID   12 non-null     int64 \n",
      " 9   Region       12 non-null     object\n",
      "dtypes: int64(7), object(3)\n",
      "memory usage: 1.1+ KB\n",
      "None\n"
     ]
    }
   ],
   "source": [
    "df.drop_duplicates(inplace=True)\n",
    "df.dropna(inplace=True)\n",
    "print(df.info())"
   ]
  },
  {
   "cell_type": "markdown",
   "id": "8408e49a-9515-440c-bc52-0aa086ca0569",
   "metadata": {},
   "source": [
    "### Tips!\n",
    "- ascending=False : Sorts the resulting DataFrame in descending order.\n",
    "- The tabulate library can help in printing well-aligned tables."
   ]
  },
  {
   "cell_type": "code",
   "execution_count": 29,
   "id": "b81b87c9-b5d0-42a4-b6c0-853385746b94",
   "metadata": {},
   "outputs": [
    {
     "name": "stdout",
     "output_type": "stream",
     "text": [
      "+---------------+--------------+------------------+\n",
      "| ProductName   |   TotalPrice |   NumberOfOrders |\n",
      "|---------------+--------------+------------------|\n",
      "| Perfume       |         2100 |                1 |\n",
      "| Oil           |         1890 |                1 |\n",
      "| Knife         |         1780 |                1 |\n",
      "| Crockery      |         1760 |                1 |\n",
      "| Tooth Brush   |         1740 |                1 |\n",
      "+---------------+--------------+------------------+\n",
      "+-------------+--------------+------------------+\n",
      "| Category    |   TotalPrice |   NumberOfOrders |\n",
      "|-------------+--------------+------------------|\n",
      "| cosmetics   |         4800 |                3 |\n",
      "| kitchen     |         3180 |                2 |\n",
      "| Food        |         1890 |                1 |\n",
      "| Kitchen     |         1760 |                1 |\n",
      "| Med Cleaner |         1740 |                1 |\n",
      "+-------------+--------------+------------------+\n"
     ]
    }
   ],
   "source": [
    "product_sales = df.groupby('ProductName').agg({'TotalPrice': 'sum', 'order_id': 'count'}).rename(columns={'order_id': 'NumberOfOrders'}).sort_values(by='TotalPrice', ascending=False)\n",
    "print(tabulate(product_sales.head(), headers='keys', tablefmt='psql'))\n",
    "\n",
    "category_sales = df.groupby('Category').agg({'TotalPrice': 'sum', 'order_id': 'count'}).rename(columns={'order_id': 'NumberOfOrders'}).sort_values(by='TotalPrice', ascending=False)\n",
    "\n",
    "# display(category_sales)\n",
    "print(tabulate(category_sales.head(), headers='keys', tablefmt='psql'))"
   ]
  },
  {
   "cell_type": "markdown",
   "id": "a08d44b7-e9db-4063-9843-aacb2ddde831",
   "metadata": {},
   "source": [
    "### Some Info! \n",
    "- 1. df.resample('M'): This method is used to resample time-series data. Here, 'M' stands for monthly frequency.\n",
    "- 2. resample() is used to change the frequency of time-series data. It’s commonly used for time-series analysis to aggregate or fill data points over specified time intervals."
   ]
  },
  {
   "cell_type": "code",
   "execution_count": 30,
   "id": "ac265573-918c-44a6-834e-4f5f81b2567f",
   "metadata": {},
   "outputs": [
    {
     "name": "stdout",
     "output_type": "stream",
     "text": [
      "Total unique customers: 12\n",
      "Average Order Value (AOV): 1542.92\n",
      "+--------------+--------------+\n",
      "|   CustomerID |   TotalPrice |\n",
      "|--------------+--------------|\n",
      "|       412800 |         2100 |\n",
      "|       266700 |         1890 |\n",
      "|       234000 |         1780 |\n",
      "|       300200 |         1760 |\n",
      "|       209600 |         1740 |\n",
      "+--------------+--------------+\n"
     ]
    }
   ],
   "source": [
    "unique_customers = df['CustomerID'].nunique()\n",
    "print(f'Total unique customers: {unique_customers}')\n",
    "\n",
    "aov = df['TotalPrice'].mean()\n",
    "print(f'Average Order Value (AOV): {aov:.2f}')\n",
    "\n",
    "top_customers = df.groupby('CustomerID').agg({'TotalPrice': 'sum'}).sort_values(by='TotalPrice', ascending=False).head(10)\n",
    "# print(top_customers)\n",
    "print(tabulate(top_customers.head(), headers='keys', tablefmt='psql'))"
   ]
  },
  {
   "cell_type": "code",
   "execution_count": 31,
   "id": "70e64733-9426-4054-b052-9b31ae9c9c9c",
   "metadata": {},
   "outputs": [
    {
     "name": "stdout",
     "output_type": "stream",
     "text": [
      "+----------+--------------+------------------+\n",
      "| Region   |   TotalPrice |   NumberOfOrders |\n",
      "|----------+--------------+------------------|\n",
      "| LHR      |         7530 |                4 |\n",
      "| RYK      |         2700 |                2 |\n",
      "| RWP      |         2685 |                2 |\n",
      "| SWL      |         2460 |                2 |\n",
      "| ISL      |         1740 |                1 |\n",
      "+----------+--------------+------------------+\n",
      "+-------------------------+--------------+\n",
      "|                         |   TotalPrice |\n",
      "|-------------------------+--------------|\n",
      "| ('LHR', 'Perfume')      |         2100 |\n",
      "| ('ISL', 'Tooth Brush')  |         1740 |\n",
      "| ('RWP', 'Toilet Brush') |         1555 |\n",
      "| ('RYK', 'Shampoo')      |         1500 |\n",
      "| ('KRC', 'scissors')     |         1400 |\n",
      "+-------------------------+--------------+\n"
     ]
    }
   ],
   "source": [
    "regional_sales = df.groupby('Region').agg({'TotalPrice': 'sum', 'order_id': 'count'}).rename(columns={'order_id': 'NumberOfOrders'}).sort_values(by='TotalPrice', ascending=False)\n",
    "# print(regional_sales)\n",
    "print(tabulate(regional_sales.head(), headers='keys', tablefmt='psql'))\n",
    "region_popular_products = df.groupby(['Region', 'ProductName']).agg({'TotalPrice': 'sum'}).sort_values(by='TotalPrice', ascending=False).groupby(level=0).head(1)\n",
    "# print(region_popular_products)\n",
    "print(tabulate(region_popular_products.head(), headers='keys', tablefmt='psql'))"
   ]
  },
  {
   "cell_type": "code",
   "execution_count": 15,
   "id": "91fe7043-ee3c-493b-801b-ee645b4910e8",
   "metadata": {},
   "outputs": [
    {
     "data": {
      "image/png": "[encoded data removed]",
      "text/plain": [
       "<Figure size 1000x600 with 1 Axes>"
      ]
     },
     "metadata": {},
     "output_type": "display_data"
    },
    {
     "name": "stderr",
     "output_type": "stream",
     "text": [
      "C:\\Users\\hp\\anaconda3\\Lib\\site-packages\\seaborn\\matrix.py:260: FutureWarning: Format strings passed to MaskedConstant are ignored, but in future may error or produce different behavior\n",
      "  annotation = (\"{:\" + self.fmt + \"}\").format(val)\n"
     ]
    },
    {
     "data": {
      "image/png": "[encoded data removed]",
      "text/plain": [
       "<Figure size 1000x600 with 2 Axes>"
      ]
     },
     "metadata": {},
     "output_type": "display_data"
    }
   ],
   "source": [
    "import seaborn as sns\n",
    "import matplotlib.pyplot as plt \n",
    "\n",
    "plt.figure(figsize=(10, 6))\n",
    "sns.barplot(x=product_sales.index[:10], y=product_sales['TotalPrice'][:10])\n",
    "plt.xticks(rotation=90)\n",
    "plt.title('Top 10 Best-Selling Products')\n",
    "plt.xlabel('Product')\n",
    "plt.ylabel('Total Sales')\n",
    "plt.show()\n",
    "\n",
    "plt.figure(figsize=(10, 6))\n",
    "sns.heatmap(pd.pivot_table(df, values='TotalPrice', index='Region', columns='Category', aggfunc='sum'), annot=True, fmt='.2f', cmap='YlGnBu')\n",
    "plt.title('Sales Distribution by Region and Category')\n",
    "plt.show()\n"
   ]
  },
  {
   "cell_type": "markdown",
   "id": "2c83abc2-41f4-41df-82b1-df63db75f7df",
   "metadata": {},
   "source": [
    "we are getting the warning issue a"
   ]
  }
 ],
 "metadata": {
  "kernelspec": {
   "display_name": "Python 3 (ipykernel)",
   "language": "python",
   "name": "python3"
  },
  "language_info": {
   "codemirror_mode": {
    "name": "ipython",
    "version": 3
   },
   "file_extension": ".py",
   "mimetype": "text/x-python",
   "name": "python",
   "nbconvert_exporter": "python",
   "pygments_lexer": "ipython3",
   "version": "3.11.7"
  }
 },
 "nbformat": 4,
 "nbformat_minor": 5
}
